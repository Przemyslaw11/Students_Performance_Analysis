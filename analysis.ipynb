{
 "cells": [
  {
   "cell_type": "markdown",
   "metadata": {},
   "source": [
    "In this notebook, we are trying to understand which factors may affect the student's performance. In order to discover correlations between factors, we will classify the scores into several unique groups.\n",
    "\n",
    "Let's pay attention that dataset consists of five independent variables which are:\n",
    "\n",
    "gender: sex of students (male, female)\n",
    "\n",
    "race/ethnicity: race of students (A-E groups)\n",
    "\n",
    "parental level of education: parents' final education\n",
    "\n",
    "lunch: having lunch before test (standard, free/reduced)\n",
    "\n",
    "test preparation course: having completed the preparation course before the test (none,completed)"
   ]
  },
  {
   "cell_type": "code",
   "execution_count": 59,
   "metadata": {},
   "outputs": [],
   "source": [
    "from sklearn.preprocessing import LabelEncoder\n",
    "from collections import defaultdict\n",
    "from sklearn.cluster import KMeans\n",
    "import matplotlib.pyplot as plt\n",
    "import pandas as pd \n",
    "import numpy as np  "
   ]
  },
  {
   "cell_type": "markdown",
   "metadata": {},
   "source": [
    "Let's have a look at the dataset."
   ]
  },
  {
   "cell_type": "code",
   "execution_count": 49,
   "metadata": {},
   "outputs": [
    {
     "data": {
      "text/html": [
       "<div>\n",
       "<style scoped>\n",
       "    .dataframe tbody tr th:only-of-type {\n",
       "        vertical-align: middle;\n",
       "    }\n",
       "\n",
       "    .dataframe tbody tr th {\n",
       "        vertical-align: top;\n",
       "    }\n",
       "\n",
       "    .dataframe thead th {\n",
       "        text-align: right;\n",
       "    }\n",
       "</style>\n",
       "<table border=\"1\" class=\"dataframe\">\n",
       "  <thead>\n",
       "    <tr style=\"text-align: right;\">\n",
       "      <th></th>\n",
       "      <th>gender</th>\n",
       "      <th>race/ethnicity</th>\n",
       "      <th>parental level of education</th>\n",
       "      <th>lunch</th>\n",
       "      <th>test preparation course</th>\n",
       "      <th>math score</th>\n",
       "      <th>reading score</th>\n",
       "      <th>writing score</th>\n",
       "    </tr>\n",
       "  </thead>\n",
       "  <tbody>\n",
       "    <tr>\n",
       "      <th>541</th>\n",
       "      <td>male</td>\n",
       "      <td>group D</td>\n",
       "      <td>associate's degree</td>\n",
       "      <td>free/reduced</td>\n",
       "      <td>completed</td>\n",
       "      <td>79</td>\n",
       "      <td>82</td>\n",
       "      <td>80</td>\n",
       "    </tr>\n",
       "    <tr>\n",
       "      <th>950</th>\n",
       "      <td>male</td>\n",
       "      <td>group E</td>\n",
       "      <td>high school</td>\n",
       "      <td>standard</td>\n",
       "      <td>none</td>\n",
       "      <td>94</td>\n",
       "      <td>73</td>\n",
       "      <td>71</td>\n",
       "    </tr>\n",
       "    <tr>\n",
       "      <th>918</th>\n",
       "      <td>female</td>\n",
       "      <td>group C</td>\n",
       "      <td>associate's degree</td>\n",
       "      <td>standard</td>\n",
       "      <td>completed</td>\n",
       "      <td>57</td>\n",
       "      <td>77</td>\n",
       "      <td>80</td>\n",
       "    </tr>\n",
       "    <tr>\n",
       "      <th>315</th>\n",
       "      <td>male</td>\n",
       "      <td>group C</td>\n",
       "      <td>high school</td>\n",
       "      <td>standard</td>\n",
       "      <td>none</td>\n",
       "      <td>71</td>\n",
       "      <td>66</td>\n",
       "      <td>65</td>\n",
       "    </tr>\n",
       "    <tr>\n",
       "      <th>188</th>\n",
       "      <td>male</td>\n",
       "      <td>group B</td>\n",
       "      <td>some high school</td>\n",
       "      <td>free/reduced</td>\n",
       "      <td>none</td>\n",
       "      <td>48</td>\n",
       "      <td>52</td>\n",
       "      <td>45</td>\n",
       "    </tr>\n",
       "    <tr>\n",
       "      <th>352</th>\n",
       "      <td>female</td>\n",
       "      <td>group C</td>\n",
       "      <td>some college</td>\n",
       "      <td>standard</td>\n",
       "      <td>completed</td>\n",
       "      <td>63</td>\n",
       "      <td>78</td>\n",
       "      <td>80</td>\n",
       "    </tr>\n",
       "    <tr>\n",
       "      <th>818</th>\n",
       "      <td>female</td>\n",
       "      <td>group B</td>\n",
       "      <td>high school</td>\n",
       "      <td>free/reduced</td>\n",
       "      <td>none</td>\n",
       "      <td>60</td>\n",
       "      <td>72</td>\n",
       "      <td>68</td>\n",
       "    </tr>\n",
       "  </tbody>\n",
       "</table>\n",
       "</div>"
      ],
      "text/plain": [
       "     gender race/ethnicity parental level of education         lunch  \\\n",
       "541    male        group D          associate's degree  free/reduced   \n",
       "950    male        group E                 high school      standard   \n",
       "918  female        group C          associate's degree      standard   \n",
       "315    male        group C                 high school      standard   \n",
       "188    male        group B            some high school  free/reduced   \n",
       "352  female        group C                some college      standard   \n",
       "818  female        group B                 high school  free/reduced   \n",
       "\n",
       "    test preparation course  math score  reading score  writing score  \n",
       "541               completed          79             82             80  \n",
       "950                    none          94             73             71  \n",
       "918               completed          57             77             80  \n",
       "315                    none          71             66             65  \n",
       "188                    none          48             52             45  \n",
       "352               completed          63             78             80  \n",
       "818                    none          60             72             68  "
      ]
     },
     "execution_count": 49,
     "metadata": {},
     "output_type": "execute_result"
    }
   ],
   "source": [
    "score_df = pd.read_csv('StudentsPerformance.csv')\n",
    "score_df.sample(7)"
   ]
  },
  {
   "cell_type": "markdown",
   "metadata": {},
   "source": [
    "We can see that some columns' names are too long. Let's abbreviate them."
   ]
  },
  {
   "cell_type": "code",
   "execution_count": 50,
   "metadata": {},
   "outputs": [
    {
     "data": {
      "text/html": [
       "<div>\n",
       "<style scoped>\n",
       "    .dataframe tbody tr th:only-of-type {\n",
       "        vertical-align: middle;\n",
       "    }\n",
       "\n",
       "    .dataframe tbody tr th {\n",
       "        vertical-align: top;\n",
       "    }\n",
       "\n",
       "    .dataframe thead th {\n",
       "        text-align: right;\n",
       "    }\n",
       "</style>\n",
       "<table border=\"1\" class=\"dataframe\">\n",
       "  <thead>\n",
       "    <tr style=\"text-align: right;\">\n",
       "      <th></th>\n",
       "      <th>gender</th>\n",
       "      <th>race</th>\n",
       "      <th>parent_education</th>\n",
       "      <th>lunch</th>\n",
       "      <th>prep_course</th>\n",
       "      <th>math</th>\n",
       "      <th>reading</th>\n",
       "      <th>writing</th>\n",
       "    </tr>\n",
       "  </thead>\n",
       "  <tbody>\n",
       "    <tr>\n",
       "      <th>670</th>\n",
       "      <td>female</td>\n",
       "      <td>group C</td>\n",
       "      <td>high school</td>\n",
       "      <td>free/reduced</td>\n",
       "      <td>none</td>\n",
       "      <td>66</td>\n",
       "      <td>76</td>\n",
       "      <td>68</td>\n",
       "    </tr>\n",
       "    <tr>\n",
       "      <th>993</th>\n",
       "      <td>female</td>\n",
       "      <td>group D</td>\n",
       "      <td>bachelor's degree</td>\n",
       "      <td>free/reduced</td>\n",
       "      <td>none</td>\n",
       "      <td>62</td>\n",
       "      <td>72</td>\n",
       "      <td>74</td>\n",
       "    </tr>\n",
       "    <tr>\n",
       "      <th>759</th>\n",
       "      <td>male</td>\n",
       "      <td>group B</td>\n",
       "      <td>some college</td>\n",
       "      <td>standard</td>\n",
       "      <td>completed</td>\n",
       "      <td>69</td>\n",
       "      <td>77</td>\n",
       "      <td>77</td>\n",
       "    </tr>\n",
       "    <tr>\n",
       "      <th>252</th>\n",
       "      <td>female</td>\n",
       "      <td>group B</td>\n",
       "      <td>some high school</td>\n",
       "      <td>standard</td>\n",
       "      <td>completed</td>\n",
       "      <td>60</td>\n",
       "      <td>70</td>\n",
       "      <td>70</td>\n",
       "    </tr>\n",
       "    <tr>\n",
       "      <th>83</th>\n",
       "      <td>male</td>\n",
       "      <td>group E</td>\n",
       "      <td>associate's degree</td>\n",
       "      <td>standard</td>\n",
       "      <td>none</td>\n",
       "      <td>72</td>\n",
       "      <td>64</td>\n",
       "      <td>63</td>\n",
       "    </tr>\n",
       "    <tr>\n",
       "      <th>936</th>\n",
       "      <td>male</td>\n",
       "      <td>group A</td>\n",
       "      <td>associate's degree</td>\n",
       "      <td>standard</td>\n",
       "      <td>none</td>\n",
       "      <td>67</td>\n",
       "      <td>57</td>\n",
       "      <td>53</td>\n",
       "    </tr>\n",
       "    <tr>\n",
       "      <th>586</th>\n",
       "      <td>female</td>\n",
       "      <td>group A</td>\n",
       "      <td>high school</td>\n",
       "      <td>standard</td>\n",
       "      <td>none</td>\n",
       "      <td>55</td>\n",
       "      <td>73</td>\n",
       "      <td>73</td>\n",
       "    </tr>\n",
       "  </tbody>\n",
       "</table>\n",
       "</div>"
      ],
      "text/plain": [
       "     gender     race    parent_education         lunch prep_course  math  \\\n",
       "670  female  group C         high school  free/reduced        none    66   \n",
       "993  female  group D   bachelor's degree  free/reduced        none    62   \n",
       "759    male  group B        some college      standard   completed    69   \n",
       "252  female  group B    some high school      standard   completed    60   \n",
       "83     male  group E  associate's degree      standard        none    72   \n",
       "936    male  group A  associate's degree      standard        none    67   \n",
       "586  female  group A         high school      standard        none    55   \n",
       "\n",
       "     reading  writing  \n",
       "670       76       68  \n",
       "993       72       74  \n",
       "759       77       77  \n",
       "252       70       70  \n",
       "83        64       63  \n",
       "936       57       53  \n",
       "586       73       73  "
      ]
     },
     "execution_count": 50,
     "metadata": {},
     "output_type": "execute_result"
    }
   ],
   "source": [
    "score_df.rename(\n",
    "    columns={\n",
    "        'race/ethnicity': 'race',\n",
    "        'parental level of education': 'parent_education',\n",
    "        'test preparation course': 'prep_course',\n",
    "        'math score': 'math',\n",
    "        'reading score': 'reading',\n",
    "        'writing score': 'writing'\n",
    "    },\n",
    "    inplace=True\n",
    ")\n",
    "\n",
    "score_df.sample(7)    "
   ]
  },
  {
   "cell_type": "markdown",
   "metadata": {},
   "source": [
    "It looks way better than before. Although we shortened columns' names, we are still able to recognize each meaning easily. We should check the data types."
   ]
  },
  {
   "cell_type": "code",
   "execution_count": 51,
   "metadata": {},
   "outputs": [
    {
     "data": {
      "text/plain": [
       "gender              object\n",
       "race                object\n",
       "parent_education    object\n",
       "lunch               object\n",
       "prep_course         object\n",
       "math                 int64\n",
       "reading              int64\n",
       "writing              int64\n",
       "dtype: object"
      ]
     },
     "execution_count": 51,
     "metadata": {},
     "output_type": "execute_result"
    }
   ],
   "source": [
    "score_df.dtypes"
   ]
  },
  {
   "cell_type": "markdown",
   "metadata": {},
   "source": [
    "We can see that most of the columns have a type of 'object'. This data type is not desirable when it comes to our analysis. It's better to deal with numerical representations of these features. Let's encode them."
   ]
  },
  {
   "cell_type": "code",
   "execution_count": 52,
   "metadata": {},
   "outputs": [
    {
     "data": {
      "text/html": [
       "<div>\n",
       "<style scoped>\n",
       "    .dataframe tbody tr th:only-of-type {\n",
       "        vertical-align: middle;\n",
       "    }\n",
       "\n",
       "    .dataframe tbody tr th {\n",
       "        vertical-align: top;\n",
       "    }\n",
       "\n",
       "    .dataframe thead th {\n",
       "        text-align: right;\n",
       "    }\n",
       "</style>\n",
       "<table border=\"1\" class=\"dataframe\">\n",
       "  <thead>\n",
       "    <tr style=\"text-align: right;\">\n",
       "      <th></th>\n",
       "      <th>gender</th>\n",
       "      <th>race</th>\n",
       "      <th>parent_education</th>\n",
       "      <th>lunch</th>\n",
       "      <th>prep_course</th>\n",
       "      <th>math</th>\n",
       "      <th>reading</th>\n",
       "      <th>writing</th>\n",
       "    </tr>\n",
       "  </thead>\n",
       "  <tbody>\n",
       "    <tr>\n",
       "      <th>783</th>\n",
       "      <td>female</td>\n",
       "      <td>group C</td>\n",
       "      <td>0</td>\n",
       "      <td>1</td>\n",
       "      <td>0</td>\n",
       "      <td>52</td>\n",
       "      <td>59</td>\n",
       "      <td>62</td>\n",
       "    </tr>\n",
       "    <tr>\n",
       "      <th>977</th>\n",
       "      <td>male</td>\n",
       "      <td>group C</td>\n",
       "      <td>0</td>\n",
       "      <td>1</td>\n",
       "      <td>1</td>\n",
       "      <td>62</td>\n",
       "      <td>65</td>\n",
       "      <td>58</td>\n",
       "    </tr>\n",
       "    <tr>\n",
       "      <th>802</th>\n",
       "      <td>female</td>\n",
       "      <td>group E</td>\n",
       "      <td>0</td>\n",
       "      <td>1</td>\n",
       "      <td>1</td>\n",
       "      <td>87</td>\n",
       "      <td>94</td>\n",
       "      <td>95</td>\n",
       "    </tr>\n",
       "    <tr>\n",
       "      <th>901</th>\n",
       "      <td>female</td>\n",
       "      <td>group C</td>\n",
       "      <td>3</td>\n",
       "      <td>1</td>\n",
       "      <td>1</td>\n",
       "      <td>73</td>\n",
       "      <td>78</td>\n",
       "      <td>74</td>\n",
       "    </tr>\n",
       "    <tr>\n",
       "      <th>443</th>\n",
       "      <td>female</td>\n",
       "      <td>group B</td>\n",
       "      <td>0</td>\n",
       "      <td>1</td>\n",
       "      <td>1</td>\n",
       "      <td>73</td>\n",
       "      <td>83</td>\n",
       "      <td>76</td>\n",
       "    </tr>\n",
       "    <tr>\n",
       "      <th>493</th>\n",
       "      <td>female</td>\n",
       "      <td>group C</td>\n",
       "      <td>1</td>\n",
       "      <td>1</td>\n",
       "      <td>1</td>\n",
       "      <td>81</td>\n",
       "      <td>88</td>\n",
       "      <td>90</td>\n",
       "    </tr>\n",
       "    <tr>\n",
       "      <th>275</th>\n",
       "      <td>male</td>\n",
       "      <td>group C</td>\n",
       "      <td>1</td>\n",
       "      <td>1</td>\n",
       "      <td>1</td>\n",
       "      <td>83</td>\n",
       "      <td>78</td>\n",
       "      <td>73</td>\n",
       "    </tr>\n",
       "  </tbody>\n",
       "</table>\n",
       "</div>"
      ],
      "text/plain": [
       "     gender     race  parent_education  lunch  prep_course  math  reading  \\\n",
       "783  female  group C                 0      1            0    52       59   \n",
       "977    male  group C                 0      1            1    62       65   \n",
       "802  female  group E                 0      1            1    87       94   \n",
       "901  female  group C                 3      1            1    73       78   \n",
       "443  female  group B                 0      1            1    73       83   \n",
       "493  female  group C                 1      1            1    81       88   \n",
       "275    male  group C                 1      1            1    83       78   \n",
       "\n",
       "     writing  \n",
       "783       62  \n",
       "977       58  \n",
       "802       95  \n",
       "901       74  \n",
       "443       76  \n",
       "493       90  \n",
       "275       73  "
      ]
     },
     "execution_count": 52,
     "metadata": {},
     "output_type": "execute_result"
    }
   ],
   "source": [
    "labelencoder = LabelEncoder()\n",
    "train_df = score_df.copy()\n",
    "train_df['parent_education'] = labelencoder.fit_transform(train_df['parent_education'])\n",
    "train_df['lunch'] = labelencoder.fit_transform(train_df['lunch'])\n",
    "train_df['prep_course'] = labelencoder.fit_transform(train_df['prep_course'])\n",
    "\n",
    "train_df.sample(7)"
   ]
  },
  {
   "cell_type": "markdown",
   "metadata": {},
   "source": [
    "Nice! We have our 'parent_education', 'lunch' and 'prep_course' features encoded.\n",
    "\n",
    "Let's classify them using a clustering algorithm -KMeans algorithm. We are interested in all dataframe columns, excluding gender and race.\n",
    "\n",
    "💡TIP💡: Inertia tells how far away the points within a cluster are (sum of squared distances)."
   ]
  },
  {
   "cell_type": "code",
   "execution_count": 53,
   "metadata": {},
   "outputs": [
    {
     "name": "stderr",
     "output_type": "stream",
     "text": [
      "c:\\Users\\przem\\anaconda3\\lib\\site-packages\\sklearn\\cluster\\_kmeans.py:1036: UserWarning: KMeans is known to have a memory leak on Windows with MKL, when there are less chunks than available threads. You can avoid it by setting the environment variable OMP_NUM_THREADS=4.\n",
      "  warnings.warn(\n"
     ]
    },
    {
     "data": {
      "image/png": "[encoded data removed]",
      "text/plain": [
       "<Figure size 432x288 with 1 Axes>"
      ]
     },
     "metadata": {
      "needs_background": "light"
     },
     "output_type": "display_data"
    }
   ],
   "source": [
    "inertias = list()\n",
    "for i in range(1,25):\n",
    "    kmeans = KMeans(init = \"k-means++\", n_clusters = i, n_init = 30)\n",
    "    kmeans.fit_transform(train_df.iloc[:, 2:]) # We are interested in all columns, excluding gender and race\n",
    "    inertias.append(kmeans.inertia_) \n",
    "\n",
    "plt.plot(range(1,25), inertias, marker='o', color = 'black', mec = 'orange', ms = 7)\n",
    "plt.title('Elbow method')\n",
    "plt.xlabel('No. clusters')\n",
    "plt.ylabel('Inertia')\n",
    "plt.show()"
   ]
  },
  {
   "cell_type": "markdown",
   "metadata": {},
   "source": [
    "Great! With this beautiful plot, we need to determine the elbow point. It appears to be 8.\n",
    "\n",
    "💡TIP💡 The elbow point is where the curve starts to flatten."
   ]
  },
  {
   "cell_type": "code",
   "execution_count": 54,
   "metadata": {},
   "outputs": [
    {
     "data": {
      "text/html": [
       "<div>\n",
       "<style scoped>\n",
       "    .dataframe tbody tr th:only-of-type {\n",
       "        vertical-align: middle;\n",
       "    }\n",
       "\n",
       "    .dataframe tbody tr th {\n",
       "        vertical-align: top;\n",
       "    }\n",
       "\n",
       "    .dataframe thead th {\n",
       "        text-align: right;\n",
       "    }\n",
       "</style>\n",
       "<table border=\"1\" class=\"dataframe\">\n",
       "  <thead>\n",
       "    <tr style=\"text-align: right;\">\n",
       "      <th></th>\n",
       "      <th>gender</th>\n",
       "      <th>race</th>\n",
       "      <th>parent_education</th>\n",
       "      <th>lunch</th>\n",
       "      <th>prep_course</th>\n",
       "      <th>math</th>\n",
       "      <th>reading</th>\n",
       "      <th>writing</th>\n",
       "      <th>cluster_group</th>\n",
       "    </tr>\n",
       "  </thead>\n",
       "  <tbody>\n",
       "    <tr>\n",
       "      <th>0</th>\n",
       "      <td>female</td>\n",
       "      <td>group B</td>\n",
       "      <td>bachelor's degree</td>\n",
       "      <td>standard</td>\n",
       "      <td>none</td>\n",
       "      <td>72</td>\n",
       "      <td>72</td>\n",
       "      <td>74</td>\n",
       "      <td>6</td>\n",
       "    </tr>\n",
       "    <tr>\n",
       "      <th>1</th>\n",
       "      <td>female</td>\n",
       "      <td>group C</td>\n",
       "      <td>some college</td>\n",
       "      <td>standard</td>\n",
       "      <td>completed</td>\n",
       "      <td>69</td>\n",
       "      <td>90</td>\n",
       "      <td>88</td>\n",
       "      <td>6</td>\n",
       "    </tr>\n",
       "    <tr>\n",
       "      <th>2</th>\n",
       "      <td>female</td>\n",
       "      <td>group B</td>\n",
       "      <td>master's degree</td>\n",
       "      <td>standard</td>\n",
       "      <td>none</td>\n",
       "      <td>90</td>\n",
       "      <td>95</td>\n",
       "      <td>93</td>\n",
       "      <td>5</td>\n",
       "    </tr>\n",
       "    <tr>\n",
       "      <th>3</th>\n",
       "      <td>male</td>\n",
       "      <td>group A</td>\n",
       "      <td>associate's degree</td>\n",
       "      <td>free/reduced</td>\n",
       "      <td>none</td>\n",
       "      <td>47</td>\n",
       "      <td>57</td>\n",
       "      <td>44</td>\n",
       "      <td>7</td>\n",
       "    </tr>\n",
       "    <tr>\n",
       "      <th>4</th>\n",
       "      <td>male</td>\n",
       "      <td>group C</td>\n",
       "      <td>some college</td>\n",
       "      <td>standard</td>\n",
       "      <td>none</td>\n",
       "      <td>76</td>\n",
       "      <td>78</td>\n",
       "      <td>75</td>\n",
       "      <td>0</td>\n",
       "    </tr>\n",
       "    <tr>\n",
       "      <th>5</th>\n",
       "      <td>female</td>\n",
       "      <td>group B</td>\n",
       "      <td>associate's degree</td>\n",
       "      <td>standard</td>\n",
       "      <td>none</td>\n",
       "      <td>71</td>\n",
       "      <td>83</td>\n",
       "      <td>78</td>\n",
       "      <td>6</td>\n",
       "    </tr>\n",
       "    <tr>\n",
       "      <th>6</th>\n",
       "      <td>female</td>\n",
       "      <td>group B</td>\n",
       "      <td>some college</td>\n",
       "      <td>standard</td>\n",
       "      <td>completed</td>\n",
       "      <td>88</td>\n",
       "      <td>95</td>\n",
       "      <td>92</td>\n",
       "      <td>5</td>\n",
       "    </tr>\n",
       "    <tr>\n",
       "      <th>7</th>\n",
       "      <td>male</td>\n",
       "      <td>group B</td>\n",
       "      <td>some college</td>\n",
       "      <td>free/reduced</td>\n",
       "      <td>none</td>\n",
       "      <td>40</td>\n",
       "      <td>43</td>\n",
       "      <td>39</td>\n",
       "      <td>2</td>\n",
       "    </tr>\n",
       "    <tr>\n",
       "      <th>8</th>\n",
       "      <td>male</td>\n",
       "      <td>group D</td>\n",
       "      <td>high school</td>\n",
       "      <td>free/reduced</td>\n",
       "      <td>completed</td>\n",
       "      <td>64</td>\n",
       "      <td>64</td>\n",
       "      <td>67</td>\n",
       "      <td>1</td>\n",
       "    </tr>\n",
       "    <tr>\n",
       "      <th>9</th>\n",
       "      <td>female</td>\n",
       "      <td>group B</td>\n",
       "      <td>high school</td>\n",
       "      <td>free/reduced</td>\n",
       "      <td>none</td>\n",
       "      <td>38</td>\n",
       "      <td>60</td>\n",
       "      <td>50</td>\n",
       "      <td>7</td>\n",
       "    </tr>\n",
       "  </tbody>\n",
       "</table>\n",
       "</div>"
      ],
      "text/plain": [
       "   gender     race    parent_education         lunch prep_course  math  \\\n",
       "0  female  group B   bachelor's degree      standard        none    72   \n",
       "1  female  group C        some college      standard   completed    69   \n",
       "2  female  group B     master's degree      standard        none    90   \n",
       "3    male  group A  associate's degree  free/reduced        none    47   \n",
       "4    male  group C        some college      standard        none    76   \n",
       "5  female  group B  associate's degree      standard        none    71   \n",
       "6  female  group B        some college      standard   completed    88   \n",
       "7    male  group B        some college  free/reduced        none    40   \n",
       "8    male  group D         high school  free/reduced   completed    64   \n",
       "9  female  group B         high school  free/reduced        none    38   \n",
       "\n",
       "   reading  writing  cluster_group  \n",
       "0       72       74              6  \n",
       "1       90       88              6  \n",
       "2       95       93              5  \n",
       "3       57       44              7  \n",
       "4       78       75              0  \n",
       "5       83       78              6  \n",
       "6       95       92              5  \n",
       "7       43       39              2  \n",
       "8       64       67              1  \n",
       "9       60       50              7  "
      ]
     },
     "execution_count": 54,
     "metadata": {},
     "output_type": "execute_result"
    }
   ],
   "source": [
    "kmeans = KMeans(init = \"k-means++\", n_init = 8)\n",
    "kmeans.fit_transform(train_df.iloc[:, 2:])\n",
    "kmeans_label = kmeans.labels_\n",
    "score_df[\"cluster_group\"] = kmeans_label\n",
    "score_df.head(10)"
   ]
  },
  {
   "cell_type": "markdown",
   "metadata": {},
   "source": [
    "Alright! We have eight clusters, so check performance for each of them."
   ]
  },
  {
   "cell_type": "code",
   "execution_count": 55,
   "metadata": {},
   "outputs": [
    {
     "data": {
      "text/html": [
       "<div>\n",
       "<style scoped>\n",
       "    .dataframe tbody tr th:only-of-type {\n",
       "        vertical-align: middle;\n",
       "    }\n",
       "\n",
       "    .dataframe tbody tr th {\n",
       "        vertical-align: top;\n",
       "    }\n",
       "\n",
       "    .dataframe thead th {\n",
       "        text-align: right;\n",
       "    }\n",
       "</style>\n",
       "<table border=\"1\" class=\"dataframe\">\n",
       "  <thead>\n",
       "    <tr style=\"text-align: right;\">\n",
       "      <th></th>\n",
       "      <th>math</th>\n",
       "      <th>reading</th>\n",
       "      <th>writing</th>\n",
       "    </tr>\n",
       "    <tr>\n",
       "      <th>cluster_group</th>\n",
       "      <th></th>\n",
       "      <th></th>\n",
       "      <th></th>\n",
       "    </tr>\n",
       "  </thead>\n",
       "  <tbody>\n",
       "    <tr>\n",
       "      <th>0</th>\n",
       "      <td>81.848684</td>\n",
       "      <td>81.730263</td>\n",
       "      <td>80.355263</td>\n",
       "    </tr>\n",
       "    <tr>\n",
       "      <th>1</th>\n",
       "      <td>56.236486</td>\n",
       "      <td>65.831081</td>\n",
       "      <td>66.047297</td>\n",
       "    </tr>\n",
       "    <tr>\n",
       "      <th>2</th>\n",
       "      <td>32.135135</td>\n",
       "      <td>35.972973</td>\n",
       "      <td>33.594595</td>\n",
       "    </tr>\n",
       "    <tr>\n",
       "      <th>3</th>\n",
       "      <td>72.595890</td>\n",
       "      <td>68.273973</td>\n",
       "      <td>66.541096</td>\n",
       "    </tr>\n",
       "    <tr>\n",
       "      <th>4</th>\n",
       "      <td>61.078261</td>\n",
       "      <td>57.165217</td>\n",
       "      <td>55.086957</td>\n",
       "    </tr>\n",
       "    <tr>\n",
       "      <th>5</th>\n",
       "      <td>88.463918</td>\n",
       "      <td>92.793814</td>\n",
       "      <td>92.690722</td>\n",
       "    </tr>\n",
       "    <tr>\n",
       "      <th>6</th>\n",
       "      <td>67.143678</td>\n",
       "      <td>77.201149</td>\n",
       "      <td>76.965517</td>\n",
       "    </tr>\n",
       "    <tr>\n",
       "      <th>7</th>\n",
       "      <td>47.702290</td>\n",
       "      <td>51.114504</td>\n",
       "      <td>48.770992</td>\n",
       "    </tr>\n",
       "  </tbody>\n",
       "</table>\n",
       "</div>"
      ],
      "text/plain": [
       "                    math    reading    writing\n",
       "cluster_group                                 \n",
       "0              81.848684  81.730263  80.355263\n",
       "1              56.236486  65.831081  66.047297\n",
       "2              32.135135  35.972973  33.594595\n",
       "3              72.595890  68.273973  66.541096\n",
       "4              61.078261  57.165217  55.086957\n",
       "5              88.463918  92.793814  92.690722\n",
       "6              67.143678  77.201149  76.965517\n",
       "7              47.702290  51.114504  48.770992"
      ]
     },
     "execution_count": 55,
     "metadata": {},
     "output_type": "execute_result"
    }
   ],
   "source": [
    "grouped_df = score_df.groupby(\"cluster_group\")[score_df.columns[5:8]].mean()\n",
    "grouped_df"
   ]
  },
  {
   "cell_type": "markdown",
   "metadata": {},
   "source": [
    "Let's visualize it."
   ]
  },
  {
   "cell_type": "code",
   "execution_count": 56,
   "metadata": {},
   "outputs": [
    {
     "data": {
      "image/png": "[encoded data removed]",
      "text/plain": [
       "<Figure size 432x288 with 1 Axes>"
      ]
     },
     "metadata": {
      "needs_background": "light"
     },
     "output_type": "display_data"
    }
   ],
   "source": [
    "idx = np.arange(8)\n",
    "width = 0.36\n",
    "\n",
    "fig, ax = plt.subplots()\n",
    "math_bar = ax.bar(idx - width/2, grouped_df['math'], width, label = 'Math')\n",
    "reading_bar = ax.bar(idx, grouped_df['reading'], width, label = 'Reading')\n",
    "reading_bar = ax.bar(idx  + width/2, grouped_df['writing'], width, label = 'Writing')\n",
    "\n",
    "ax.set_xlabel('Cluster group')\n",
    "ax.set_ylabel('Performance')\n",
    "ax.set_title('Groups performance')\n",
    "ax.legend()\n",
    "plt.show()"
   ]
  },
  {
   "cell_type": "markdown",
   "metadata": {},
   "source": [
    "It seems that all the subjects have the same trend, and the group leader is clearly visible. Our goal is to rank clusters, so we just need to normalize our data using the average function to establish a foothold."
   ]
  },
  {
   "cell_type": "code",
   "execution_count": 57,
   "metadata": {},
   "outputs": [
    {
     "data": {
      "text/plain": [
       "cluster_group\n",
       "5    91.316151\n",
       "0    81.311404\n",
       "6    73.770115\n",
       "3    69.136986\n",
       "1    62.704955\n",
       "4    57.776812\n",
       "7    49.195929\n",
       "2    33.900901\n",
       "Name: total_avg_performance, dtype: float64"
      ]
     },
     "execution_count": 57,
     "metadata": {},
     "output_type": "execute_result"
    }
   ],
   "source": [
    "grouped_df['total_avg_performance'] = (grouped_df['math'] + grouped_df['reading'] + grouped_df['writing'])/3\n",
    "\n",
    "rank = grouped_df['total_avg_performance'].sort_values(ascending = False)\n",
    "rank"
   ]
  },
  {
   "cell_type": "markdown",
   "metadata": {},
   "source": [
    "We can see that rank 5 is the best cluster and consists of brilliant students. On the other hand, rank 2 has the poorest performance of all ranks. Assuming that the passing percentage threshold is 50%, it is obvious that all students in the top 6 ranks passed.\n",
    "\n",
    "Let's create a function that will help us in determining the impact of binary features such as \"gender,\" \"lunch,\" and \"prep_course\" on performance of students."
   ]
  },
  {
   "cell_type": "code",
   "execution_count": 60,
   "metadata": {},
   "outputs": [],
   "source": [
    "def plot_bar_chart(column):\n",
    "    fig, ax = plt.subplots(figsize=(8,6))\n",
    "    idx_dict = defaultdict(list)\n",
    "    width = 0.4\n",
    "    k = np.arange(8)\n",
    "    \n",
    "    for idx in range(8):\n",
    "        num = 'class'+str(idx)\n",
    "        num = score_df[score_df['cluster_group']==rank.index[idx]]\n",
    "        percentage_of_column = num[column].value_counts()\n",
    "        percentage_of_column = percentage_of_column.sort_index()\n",
    "        for key in percentage_of_column.index:\n",
    "            idx_dict[key].append(percentage_of_column[key])\n",
    "            \n",
    "    percentage_of_column = score_df[score_df[\"cluster_group\"]==rank.index[4]][column].value_counts().sort_index()   \n",
    "    for j in range(len(percentage_of_column.index)):\n",
    "        rects = ax.bar(k - width/(j+1), \n",
    "                       idx_dict[percentage_of_column.index[j]],\n",
    "                       width, label=percentage_of_column.index[j])\n",
    "        \n",
    "    ax.set_xlabel('Rank')\n",
    "    ax.set_ylabel('No. students')\n",
    "    ax.set_title(f'Percentage of {column}')\n",
    "    ax.set_xticks(k)\n",
    "    ax.legend()\n",
    "    plt.show()"
   ]
  },
  {
   "cell_type": "markdown",
   "metadata": {},
   "source": [
    "Our question is whether completing the preparation course before the test helps students achieve better scores. Let's find out."
   ]
  },
  {
   "cell_type": "code",
   "execution_count": 62,
   "metadata": {},
   "outputs": [
    {
     "data": {
      "image/png": "[encoded data removed]",
      "text/plain": [
       "<Figure size 576x432 with 1 Axes>"
      ]
     },
     "metadata": {
      "needs_background": "light"
     },
     "output_type": "display_data"
    }
   ],
   "source": [
    "plot_bar_chart(\"prep_course\") "
   ]
  },
  {
   "cell_type": "markdown",
   "metadata": {},
   "source": [
    "It seems that a preparation course can help students achieve better scores. The higher the number of students who took the course in each cluster, the higher rank they obtained."
   ]
  },
  {
   "cell_type": "markdown",
   "metadata": {},
   "source": [
    "What we can say about having lunch before the test? We should figure it out."
   ]
  },
  {
   "cell_type": "code",
   "execution_count": 63,
   "metadata": {},
   "outputs": [
    {
     "data": {
      "image/png": "[encoded data removed]",
      "text/plain": [
       "<Figure size 576x432 with 1 Axes>"
      ]
     },
     "metadata": {
      "needs_background": "light"
     },
     "output_type": "display_data"
    }
   ],
   "source": [
    "plot_bar_chart(\"lunch\")"
   ]
  },
  {
   "cell_type": "markdown",
   "metadata": {},
   "source": [
    "We can observe that the trend is similar to the 'prep_course.' The higher the number of students who had lunch in each cluster, the higher the rank they obtained. Let's take a closer look at this impact."
   ]
  },
  {
   "cell_type": "code",
   "execution_count": 64,
   "metadata": {},
   "outputs": [
    {
     "data": {
      "image/png": "[encoded data removed]",
      "text/plain": [
       "<Figure size 432x288 with 1 Axes>"
      ]
     },
     "metadata": {
      "needs_background": "light"
     },
     "output_type": "display_data"
    },
    {
     "data": {
      "image/png": "[encoded data removed]",
      "text/plain": [
       "<Figure size 432x288 with 1 Axes>"
      ]
     },
     "metadata": {
      "needs_background": "light"
     },
     "output_type": "display_data"
    },
    {
     "data": {
      "image/png": "[encoded data removed]",
      "text/plain": [
       "<Figure size 432x288 with 1 Axes>"
      ]
     },
     "metadata": {
      "needs_background": "light"
     },
     "output_type": "display_data"
    }
   ],
   "source": [
    "for item in score_df.columns[5:8]:\n",
    "    plt.figure()\n",
    "    plt.boxplot([score_df.loc[score_df[\"lunch\"] == lunch_type, item] for lunch_type in score_df[\"lunch\"].unique()],\n",
    "                labels=score_df[\"lunch\"].unique())\n",
    "    \n",
    "    plt.title(f\"{item} vs lunch\")\n",
    "    plt.xlabel(\"lunch\")\n",
    "    plt.ylabel(item)\n",
    "    plt.show()"
   ]
  },
  {
   "cell_type": "markdown",
   "metadata": {},
   "source": [
    "Right! It definitely shows that \"You’re Not You When You’re Hungry”...\n",
    "\n",
    "Students who ate lunch before the test performed better on the exam than those who had their lunch reduced."
   ]
  },
  {
   "cell_type": "markdown",
   "metadata": {},
   "source": [
    "What can be asserted regarding gender?"
   ]
  },
  {
   "cell_type": "code",
   "execution_count": 65,
   "metadata": {},
   "outputs": [
    {
     "data": {
      "image/png": "[encoded data removed]",
      "text/plain": [
       "<Figure size 576x432 with 1 Axes>"
      ]
     },
     "metadata": {
      "needs_background": "light"
     },
     "output_type": "display_data"
    }
   ],
   "source": [
    "plot_bar_chart('gender')"
   ]
  },
  {
   "cell_type": "markdown",
   "metadata": {},
   "source": [
    "It's hard to say that the male is better than female. It looks that they get similar results.\n",
    "\n",
    "Let's have a look at the performance of each field for both genders."
   ]
  },
  {
   "cell_type": "code",
   "execution_count": 66,
   "metadata": {},
   "outputs": [
    {
     "data": {
      "image/png": "[encoded data removed]",
      "text/plain": [
       "<Figure size 432x288 with 3 Axes>"
      ]
     },
     "metadata": {
      "needs_background": "light"
     },
     "output_type": "display_data"
    }
   ],
   "source": [
    "fig, ax =  plt.subplots()\n",
    "fig.subplots_adjust(hspace=0.5, wspace=0.5, left=0.1, right=1.53)\n",
    "\n",
    "colors = [['purple', 'blue'] for _ in range(3)]  # List of colors for each subplot\n",
    "\n",
    "for idx in range(3):\n",
    "    plt.subplot(1,3, idx+1)\n",
    "    gender_df = score_df.groupby(\"gender\")[score_df.columns[5:][idx]].describe()\n",
    "    plt.bar(gender_df.index, gender_df.loc[:,\"mean\"].values, color = colors[idx])\n",
    "    plt.xlabel(\"gender\")\n",
    "    plt.ylabel(\"performance\")\n",
    "    plt.title(score_df.columns[5:][idx])\n",
    "    \n",
    "plt.show()"
   ]
  },
  {
   "cell_type": "markdown",
   "metadata": {},
   "source": [
    "It shows that males generally do better in math but lag behind when it comes to reading and writing, where females are better."
   ]
  },
  {
   "cell_type": "markdown",
   "metadata": {},
   "source": [
    "Finally, let's see the performance of each race."
   ]
  },
  {
   "cell_type": "code",
   "execution_count": 67,
   "metadata": {},
   "outputs": [
    {
     "data": {
      "image/png": "[encoded data removed]",
      "text/plain": [
       "<Figure size 432x288 with 3 Axes>"
      ]
     },
     "metadata": {
      "needs_background": "light"
     },
     "output_type": "display_data"
    }
   ],
   "source": [
    "fig, ax =  plt.subplots()\n",
    "fig.subplots_adjust(hspace=0.5, wspace=0.5, left=0.1, right=1.53)\n",
    "\n",
    "for idx in range(3):\n",
    "    plt.subplot(1,3, idx+1)\n",
    "    race_df = score_df.groupby(\"race\")[score_df.columns[5:][idx]].mean()\n",
    "    plt.bar(race_df.index, race_df.values)\n",
    "    plt.xlabel(\"Group\")\n",
    "    plt.ylabel(\"mean score\")\n",
    "    plt.xticks(rotation=90)\n",
    "    plt.title(score_df.columns[5:][idx])\n",
    "    \n",
    "plt.show()"
   ]
  },
  {
   "cell_type": "markdown",
   "metadata": {},
   "source": [
    "We can see that group E has the best performance out of all the groups, while group A has the worst performance."
   ]
  }
 ],
 "metadata": {
  "kernelspec": {
   "display_name": "base",
   "language": "python",
   "name": "python3"
  },
  "language_info": {
   "codemirror_mode": {
    "name": "ipython",
    "version": 3
   },
   "file_extension": ".py",
   "mimetype": "text/x-python",
   "name": "python",
   "nbconvert_exporter": "python",
   "pygments_lexer": "ipython3",
   "version": "3.9.12"
  },
  "orig_nbformat": 4
 },
 "nbformat": 4,
 "nbformat_minor": 2
}
